{
 "cells": [
  {
   "cell_type": "markdown",
   "metadata": {},
   "source": [
    "# leaflet\n",
    "\n",
    "An exploration of ipyleaflet compatible models for clojupyter kernel.\n",
    "\n",
    "## Setup\n",
    "To generate the models, this notebook requires a clojupyter kernel with plugins support (clojuputer-0.4.0 or later).\n",
    "\n",
    "To view and interact with the models you need to install the jupyter lab/notebook extensions for [ipyleaflet](https://github.com/jupyter-widgets/ipyleaflet) and [ipywidgets](https://github.com/jupyter-widgets/ipywidgets)."
   ]
  },
  {
   "cell_type": "code",
   "execution_count": 1,
   "metadata": {},
   "outputs": [
    {
     "name": "stderr",
     "output_type": "stream",
     "text": [
      "WARNING: map already refers to: #'clojure.core/map in namespace: clojupyter-plugin.leaflet, being replaced by: #'clojupyter-plugin.leaflet/map\n"
     ]
    }
   ],
   "source": [
    "(ns notebook.leaflet\n",
    "  (:require [clojupyter-plugin.leaflet :as leaf]\n",
    "            [clojupyter-plugin.leaflet.colors :as colors]\n",
    "            [clojupyter-plugin.widgets :as widget]\n",
    "            [clojupyter-plugin.widgets.control :as inter]\n",
    "            [cheshire.core :as json]\n",
    "            [clojure.java.io :as io]\n",
    "            [clojure.repl :refer :all]\n",
    "            [clojure.pprint :refer [pprint]]));"
   ]
  },
  {
   "cell_type": "markdown",
   "metadata": {},
   "source": [
    "Helper macro useful to attach widgets to global vars and show them in a single command."
   ]
  },
  {
   "cell_type": "code",
   "execution_count": 2,
   "metadata": {},
   "outputs": [
    {
     "data": {
      "text/plain": [
       "#'notebook.leaflet/def-show"
      ]
     },
     "execution_count": 2,
     "metadata": {},
     "output_type": "execute_result"
    }
   ],
   "source": [
    "(defmacro def-show\n",
    "  \"Like def, but returns `init` if one was passed along.\"  \n",
    "  ([symb]             `(def ~symb))\n",
    "  ([symb init]        `(do (def ~symb ~init) ~symb))\n",
    "  ([symb docstr init] `(do (def ~symb ~docstr ~init) ~symb)))"
   ]
  },
  {
   "cell_type": "markdown",
   "metadata": {},
   "source": [
    "### Map Controls"
   ]
  },
  {
   "cell_type": "code",
   "execution_count": 3,
   "metadata": {},
   "outputs": [
    {
     "data": {
      "application/vnd.jupyter.widget-view+json": {
       "model_id": "3fdd4100-4b67-4fc5-92f7-cc0e610019f7",
       "version_major": 2,
       "version_minor": 0
      },
      "text/plain": [
       "[3fdd4100-4b67-4fc5-92f7-cc0e610019f7]=LeafletMapModel"
      ]
     },
     "execution_count": 3,
     "metadata": {},
     "output_type": "execute_result"
    }
   ],
   "source": [
    "(def-show M0\n",
    "  (let [sel (widget/dropdown :options (->> leaf/BASE-MAPS keys (map name) sort vec) :description \"Base Map\")\n",
    "        b-maps (reduce merge (for [[k v] leaf/BASE-MAPS] {k (apply leaf/tile-layer (->> (update v :url format \"2020-05-01\") (reduce concat)))}))\n",
    "        w-ctrl (leaf/widget-control :widget sel :position \"topright\") \n",
    "        dm (leaf/map :center [4 112] :zoom 3.6 :scroll_wheel_zoom true :basemap :open-topo-map\n",
    "                     :controls [(leaf/scale-control :position \"bottomleft\") (leaf/full-screen-control) w-ctrl])]\n",
    "    (inter/tie! #(conj (pop (:layers @dm)) (get b-maps (keyword %))) sel dm :value :layers)  \n",
    "    dm))"
   ]
  },
  {
   "cell_type": "code",
   "execution_count": 4,
   "metadata": {},
   "outputs": [
    {
     "data": {
      "application/vnd.jupyter.widget-view+json": {
       "model_id": "a130c0dd-f8f4-4ba0-88e0-f6ab60280513",
       "version_major": 2,
       "version_minor": 0
      },
      "text/plain": [
       "[a130c0dd-f8f4-4ba0-88e0-f6ab60280513]=LeafletMapModel"
      ]
     },
     "execution_count": 4,
     "metadata": {},
     "output_type": "execute_result"
    }
   ],
   "source": [
    "(def-show M1\n",
    "  (let [l0 (apply leaf/tile-layer (reduce concat (apply list (:esri-world-imagery leaf/BASE-MAPS))))\n",
    "        l1 (apply leaf/tile-layer (reduce concat (apply list (:nasagibs-viirs-earth-at-night-2012 leaf/BASE-MAPS))))\n",
    "        sm (leaf/split-map-control :left_layer l0 :right_layer l1)]\n",
    "    (leaf/map :controls [sm] :center [46, -35] :zoom 3 :basemap false :layout (widget/layout :height \"60em\"))))"
   ]
  },
  {
   "cell_type": "code",
   "execution_count": 5,
   "metadata": {},
   "outputs": [
    {
     "data": {
      "application/vnd.jupyter.widget-view+json": {
       "model_id": "82250fd7-db19-45cd-b430-8a0ebbf5ec48",
       "version_major": 2,
       "version_minor": 0
      },
      "text/plain": [
       "[82250fd7-db19-45cd-b430-8a0ebbf5ec48]=LeafletMapModel"
      ]
     },
     "execution_count": 5,
     "metadata": {},
     "output_type": "execute_result"
    }
   ],
   "source": [
    "(let [dc (leaf/draw-control)\n",
    "      mc (leaf/measure-control :primary_length_unit \"kilometers\" :primary_area_unit \"hectares\")]\n",
    "  (leaf/map :center [38 27] :zoom 6 :controls [dc mc] :extra-controls? nil :basemap :carto-db-dark-matter))"
   ]
  },
  {
   "cell_type": "code",
   "execution_count": 6,
   "metadata": {},
   "outputs": [
    {
     "data": {
      "application/vnd.jupyter.widget-view+json": {
       "model_id": "fd0674ca-ae40-4c4a-877d-dc7645efcd32",
       "version_major": 2,
       "version_minor": 0
      },
      "text/plain": [
       "[fd0674ca-ae40-4c4a-877d-dc7645efcd32]=LeafletMapModel"
      ]
     },
     "execution_count": 6,
     "metadata": {},
     "output_type": "execute_result"
    }
   ],
   "source": [
    "(leaf/map :center [43.12 41.99] :zoom 8\n",
    "          :controls [(leaf/search-control :url \"https://nominatim.openstreetmap.org/search?format=json&q={s}\" :zoom 6)])"
   ]
  },
  {
   "cell_type": "markdown",
   "metadata": {},
   "source": [
    "### Markers\n",
    "\n",
    "Awesome-icon widget is not dynamic. You must refer to a new one to change it."
   ]
  },
  {
   "cell_type": "code",
   "execution_count": 7,
   "metadata": {},
   "outputs": [
    {
     "data": {
      "application/vnd.jupyter.widget-view+json": {
       "model_id": "516d9543-b9ad-446b-ba4d-7aacfc693247",
       "version_major": 2,
       "version_minor": 0
      },
      "text/plain": [
       "[516d9543-b9ad-446b-ba4d-7aacfc693247]=VBoxModel"
      ]
     },
     "execution_count": 7,
     "metadata": {},
     "output_type": "execute_result"
    }
   ],
   "source": [
    "(def-show M2\n",
    "  (let [loc [52.205 360.121]\n",
    "        ico (leaf/awesome-icon :name \"address-card\" :title \":boo\")\n",
    "        ico2 (leaf/div-icon :html \"goo\" :icon_size [30 30])\n",
    "        pop (widget/html :value \"hello\")\n",
    "        pin (leaf/marker :location loc :draggable true :rise_on_hover true :icon ico :title \"None\"\n",
    "                         :popup pop\n",
    "                         :options [:alt :draggable :keyboard :rise_offset :rise_on_hover :rotation_angle\n",
    "                                   :rotation_origin :title :z_index_offset])\n",
    "        pin2 (leaf/marker :location [52.210 360.10] :draggable true :rise_on_hover true :icon ico2 :title \"None\"\n",
    "                          :popup (widget/html :value \"hi\"))\n",
    "        lab (widget/label :value (apply (partial str \"Pin at \") (:location @pin)))\n",
    "        poppy (leaf/popup :child (widget/html :value \"Click on a marker\") :location [52.198899, 360.117888]\n",
    "                          :auto_close false :close_button true)\n",
    "        mc (leaf/marker-cluster :markers [pin pin2])\n",
    "        m (leaf/map :center loc :zoom 14 :layers [mc poppy] :close_popup_on_click false)\n",
    "        text (widget/text :description \"Popup text\" :continuous_update false)]\n",
    "  (swap! pin assoc-in [:callbacks :on-move]\n",
    "         (fn [_ {[lat lon] :location} _]\n",
    "           (swap! lab assoc :value (format \"Pin moved to %,4f, %,4f\" lat lon))))\n",
    "  (inter/tie! identity text pop)\n",
    "  (widget/v-box :children [text m lab])))"
   ]
  },
  {
   "cell_type": "markdown",
   "metadata": {},
   "source": [
    "### Paths\n",
    "#### Ant-Path"
   ]
  },
  {
   "cell_type": "code",
   "execution_count": 8,
   "metadata": {},
   "outputs": [
    {
     "data": {
      "application/vnd.jupyter.widget-view+json": {
       "model_id": "c203efd9-f6c6-4db9-8b91-e363cf7652ae",
       "version_major": 2,
       "version_minor": 0
      },
      "text/plain": [
       "[c203efd9-f6c6-4db9-8b91-e363cf7652ae]=LeafletMapModel"
      ]
     },
     "execution_count": 8,
     "metadata": {},
     "output_type": "execute_result"
    }
   ],
   "source": [
    "(let [p0 (leaf/ant-path :locations [[51.185, 6.773], [51.182, 6.752], [51.185, 6.733], [51.194, 6.729],\n",
    "                                    [51.205, 6.732], [51.219, 6.723], [51.224, 6.723], [51.227, 6.728],\n",
    "                                    [51.228, 6.734], [51.226, 6.742], [51.221, 6.752], [51.221, 6.758],\n",
    "                                    [51.224, 6.765], [51.230, 6.768], [51.239, 6.765], [51.246, 6.758],\n",
    "                                    [51.252, 6.745], [51.257, 6.724], [51.262, 6.711], [51.271, 6.701],\n",
    "                                    [51.276, 6.702], [51.283, 6.710], [51.297, 6.725], [51.304, 6.732]]\n",
    "                        :dash_array [1, 10]\n",
    "                        :delay 1000\n",
    "                        :color \"#7590ba\"\n",
    "                        :pulse_color \"#3f6fba\")\n",
    "      p1 (leaf/ant-path :locations [[51.312, 6.735], [51.320, 6.734], [51.326, 6.726], [51.334, 6.713],\n",
    "                                    [51.340, 6.696], [51.344, 6.678], [51.349, 6.662], [51.354, 6.655],\n",
    "                                    [51.360, 6.655], [51.366, 6.662], [51.369, 6.675], [51.373, 6.704],\n",
    "                                    [51.376, 6.715], [51.385, 6.732], [51.394, 6.741], [51.402, 6.743]]\n",
    "                        :dash_array [1, 10]\n",
    "                        :delay 1000\n",
    "                        :color \"#7590ba\"\n",
    "                        :pulse_color \"#3f6fba\")\n",
    "      p2 (leaf/ant-path :locations [[51.411, 6.742], [51.420, 6.733], [51.429, 6.718], [51.439, 6.711],\n",
    "                                    [51.448, 6.716], [51.456, 6.724], [51.466, 6.719], [51.469, 6.713],\n",
    "                                    [51.470, 6.701], [51.473, 6.686], [51.479, 6.680], [51.484, 6.680],\n",
    "                                    [51.489, 6.685], [51.493, 6.700], [51.497, 6.714]]\n",
    "                         :dash_array [1, 10]\n",
    "                         :delya 1000\n",
    "                         :color \"#7590ba\"\n",
    "                         :pulse_color \"#3f6fba\")]\n",
    "  (leaf/map :center [51.332, 6.853] :zoom 10 :layers [p0 p1 p2]))"
   ]
  },
  {
   "cell_type": "markdown",
   "metadata": {},
   "source": []
  },
  {
   "cell_type": "code",
   "execution_count": 9,
   "metadata": {},
   "outputs": [
    {
     "data": {
      "application/vnd.jupyter.widget-view+json": {
       "model_id": "e7871de1-baf5-42c4-827a-fd63236169ed",
       "version_major": 2,
       "version_minor": 0
      },
      "text/plain": [
       "[e7871de1-baf5-42c4-827a-fd63236169ed]=LeafletMapModel"
      ]
     },
     "execution_count": 9,
     "metadata": {},
     "output_type": "execute_result"
    }
   ],
   "source": [
    "(def-show M4\n",
    "  (let [but (repeatedly 4 #(widget/button :description \"Reverse\"))\n",
    "        switch-bool {true false false true}        \n",
    "        ap [(leaf/ant-path :locations [[51.5 8] [52.5 12.1]] :use \"polyline\" :popup (first but) :reverse true)\n",
    "            (leaf/ant-path :locations [[52 8] [52.5 8] [52.3 9]] :use \"polygon\" :dash-array [50 100] :weight 10 :color \"red\" :popup (second but))\n",
    "            (leaf/ant-path :locations [[51.5 11] [52 12]] :use \"rectangle\" :dash_array [10 20] :weight 5 :color \"white\" :pulse_color \"green\" :popup (nth but 2))            \n",
    "            (leaf/ant-path :locations [51.5 10] :radius 15000 :use \"circle\" :dash_array [5 10] :weight 5 :color \"magenta\" :popup (last but))]]\n",
    "   (doall (map #(swap! %1 assoc :callbacks {:on-click (fn [_ _ _] (swap! %2 update :reverse switch-bool))}) but ap))\n",
    "   (leaf/map :center [52 10] :zoom 8 :layers ap :style (leaf/map-style) :default_style (leaf/map-style) :dragging_style (leaf/map-style))))"
   ]
  },
  {
   "cell_type": "markdown",
   "metadata": {},
   "source": [
    "**Note:** The callbacks in the example above don't work, likely because that the front-end does not support mutating objects at runtime."
   ]
  },
  {
   "cell_type": "markdown",
   "metadata": {},
   "source": [
    "#### Polylines"
   ]
  },
  {
   "cell_type": "code",
   "execution_count": 10,
   "metadata": {},
   "outputs": [
    {
     "data": {
      "application/vnd.jupyter.widget-view+json": {
       "model_id": "8dd3aa43-b242-4b17-b477-faf72e832259",
       "version_major": 2,
       "version_minor": 0
      },
      "text/plain": [
       "[8dd3aa43-b242-4b17-b477-faf72e832259]=VBoxModel"
      ]
     },
     "execution_count": 10,
     "metadata": {},
     "output_type": "execute_result"
    }
   ],
   "source": [
    "(let [p0 (leaf/polyline :locations [[45.51 -122.68] [37.77 -122.43] [34.04 -118.22]] :color \"green\" :fill false)\n",
    "      p1 (leaf/polyline :locations [[[45.51 -122.68] [37.77 -122.43] [34.04 -118.22]]\n",
    "                              [[40.78 -73.91] [41.83 -87.62] [32.76 -96.72]]]\n",
    "                        :color \"green\" :fill false)\n",
    "      p2 (leaf/polygon :locations [[42 -60] [48 -34] [32 -48]] :color \"green\" :fill_color \"green\")\n",
    "      p3 (leaf/polygon :locations [[[37 -109.05] [41 -109.03] [41 -102.05] [37 -102.04]]\n",
    "                             [[37.29 -108.58] [40.71 -108.58] [40.71 -102.50] [37.29 -102.50]]]\n",
    "                       :color \"green\" :fill_color \"green\")\n",
    "      p4 (leaf/rectangle :bounds [[52 -6] [53 0]])\n",
    "      p5 (leaf/circle :location [50 -6] :radius 300000 :color \"green\" :fill_color \"green\")\n",
    "      p6 (leaf/circle-marker :location [55 0] :radius 50 :color \"red\" :fill_color \"red\")\n",
    "      b-in (widget/toggle-buttons :options [\"Polyline\" \"Multi-Polyline\" \"Polygon\" \"Multi-Polygon\" \"Rectangle\" \"Circle\" \"Circle-Marker\"])\n",
    "      paths [p0 p1 p2 p3 p4 p5 p6]\n",
    "      switch-lay (fn [lays n-idx] (-> lays pop (conj (get paths n-idx))))\n",
    "      m (leaf/map :center [42.5 -41] :zoom 3 :layers [p0])]\n",
    "  (inter/tie! (partial switch-lay (:layers @m)) b-in m :index :layers)    \n",
    "  (widget/v-box :children [b-in m]))"
   ]
  },
  {
   "cell_type": "markdown",
   "metadata": {},
   "source": [
    "### Image / Video Overlay"
   ]
  },
  {
   "cell_type": "code",
   "execution_count": 11,
   "metadata": {},
   "outputs": [
    {
     "data": {
      "application/vnd.jupyter.widget-view+json": {
       "model_id": "1a2fb1dd-a5af-4687-8a9b-1308b102f1b3",
       "version_major": 2,
       "version_minor": 0
      },
      "text/plain": [
       "[1a2fb1dd-a5af-4687-8a9b-1308b102f1b3]=LeafletMapModel"
      ]
     },
     "execution_count": 11,
     "metadata": {},
     "output_type": "execute_result"
    }
   ],
   "source": [
    "(let [v (leaf/video-overlay :url \"https://www.mapbox.com/bites/00188/patricia_nasa.webm\" :bounds [[13 -130] [32 -100]])\n",
    "      m (leaf/map :center [23 -115] :zoom 4 :layers [v] :basemap :esri-world-imagery)]\n",
    "  m)"
   ]
  },
  {
   "cell_type": "code",
   "execution_count": 12,
   "metadata": {},
   "outputs": [
    {
     "data": {
      "application/vnd.jupyter.widget-view+json": {
       "model_id": "4233235f-45ea-40d1-b778-ad5eca7edcaa",
       "version_major": 2,
       "version_minor": 0
      },
      "text/plain": [
       "[4233235f-45ea-40d1-b778-ad5eca7edcaa]=LeafletMapModel"
      ]
     },
     "execution_count": 12,
     "metadata": {},
     "output_type": "execute_result"
    }
   ],
   "source": [
    "(let [mg (leaf/magnifying-glass :layers [(apply leaf/tile-layer (:open-topo-map leaf/BASE-MAPS))])                                 ]\n",
    "  (leaf/map :layers [mg] :basemap :open-street-map-mapnik :zoom 4 :center [0, 30]))"
   ]
  },
  {
   "cell_type": "markdown",
   "metadata": {},
   "source": [
    "---\n",
    "## Geo Data"
   ]
  },
  {
   "cell_type": "code",
   "execution_count": 13,
   "metadata": {},
   "outputs": [],
   "source": [
    "(def GEO-DATA (json/parse-string (slurp \"../data/NorthAmerica.geo.json\")))\n",
    "(def POP-MAP (reduce merge (map #(hash-map (get-in % [\"properties\" \"formal_en\"]) (get-in % [\"properties\" \"pop_est\"])) (get GEO-DATA \"features\"))));"
   ]
  },
  {
   "cell_type": "markdown",
   "metadata": {},
   "source": [
    "Geo Data example uses pandas to load a dataset into memory. We need to identify its serial form to replicate on clojure side.\n",
    "\n",
    "### Geo-JSON"
   ]
  },
  {
   "cell_type": "code",
   "execution_count": 14,
   "metadata": {},
   "outputs": [
    {
     "data": {
      "application/vnd.jupyter.widget-view+json": {
       "model_id": "a41869de-056f-436d-8bed-a2f9bfbd5a0b",
       "version_major": 2,
       "version_minor": 0
      },
      "text/plain": [
       "[a41869de-056f-436d-8bed-a2f9bfbd5a0b]=VBoxModel"
      ]
     },
     "execution_count": 14,
     "metadata": {},
     "output_type": "execute_result"
    }
   ],
   "source": [
    "(def-show M3\n",
    "  (let [lab (widget/label)\n",
    "        h (fn [_ msg _] (swap! lab assoc :value (get-in msg [:properties :formal_en] \"\")))\n",
    "        l (leaf/geo-json :data GEO-DATA :hover_style {:fillColor \"red\"} :callbacks {:on-mouseover h}\n",
    "                         :style {:color \"grey\" :weight 1 :fillColor \"lightyellow\" :fillOpacity 0.7})\n",
    "        m (leaf/map :center [40 -95] :zoom 3 :basemap :carto-db-positron :layers [l] :tooltip lab)]\n",
    "  (widget/v-box :children [m lab])))"
   ]
  },
  {
   "cell_type": "markdown",
   "metadata": {},
   "source": [
    "### Choropleth\n",
    "Choropleth model is a geo-json with custom coloring based on some data.\n",
    "Python model has external dependency for choosing the colours."
   ]
  },
  {
   "cell_type": "code",
   "execution_count": 15,
   "metadata": {},
   "outputs": [
    {
     "data": {
      "application/vnd.jupyter.widget-view+json": {
       "model_id": "8911acbe-283e-4266-ba13-d037d8d9422f",
       "version_major": 2,
       "version_minor": 0
      },
      "text/plain": [
       "[8911acbe-283e-4266-ba13-d037d8d9422f]=LeafletMapModel"
      ]
     },
     "execution_count": 15,
     "metadata": {},
     "output_type": "execute_result"
    }
   ],
   "source": [
    "(def-show M5\n",
    "  (let [lab (widget/label)\n",
    "        c (leaf/choropleth :data GEO-DATA :_data POP-MAP :key-path [\"properties\" \"formal_en\"]\n",
    "                           :style {:fillOpacity 0.3 :dashArray \"5, 5\"}\n",
    "                           :callbacks {:on-mouseover (fn [ref {{name :formal_en id :formal_en} :properties} _]\n",
    "                                                       (swap! lab assoc :value (format \"%s. Population: %,d\" name (get (:_data @ref) id))))})]\n",
    "    (leaf/map :layers [c] :zoom 3 :center [40 -80] :scroll_wheel_zoom true :basemap :carto-db-positron\n",
    "              :controls [(leaf/widget-control :widget lab :position \"topright\")])))"
   ]
  },
  {
   "cell_type": "code",
   "execution_count": 16,
   "metadata": {},
   "outputs": [
    {
     "data": {
      "application/vnd.jupyter.widget-view+json": {
       "model_id": "be2fb233-d823-49b7-962d-e56cea0a9b59",
       "version_major": 2,
       "version_minor": 0
      },
      "text/plain": [
       "[be2fb233-d823-49b7-962d-e56cea0a9b59]=LeafletMapModel"
      ]
     },
     "execution_count": 16,
     "metadata": {},
     "output_type": "execute_result"
    }
   ],
   "source": [
    "(def-show M6\n",
    "  (let [v-max (reduce max (vals POP-MAP))\n",
    "        v-min (reduce min (vals POP-MAP))\n",
    "        col-fn (colors/single-hue-linear-fn v-min v-max \"#D61717\")\n",
    "        lab (widget/label)\n",
    "        c (leaf/choropleth :data GEO-DATA :_data POP-MAP :style {:fillOpacity 0.6 :dashArray \"5, 5\"}\n",
    "                           :key-path [\"properties\" \"formal_en\"]\n",
    "                           :color-fn (fn [m]\n",
    "                                       (colors/single-hue-linear-fn (reduce min (vals m))\n",
    "                                                                    (reduce max (vals m))\n",
    "                                                                    \"#D61717\"))\n",
    "                           :callbacks {:on-mouseover (fn [_ {{name :formal_en id :formal_en} :properties} _]\n",
    "                                                       (swap! lab assoc :value (format \"Population %s: %,d\" name (get POP-MAP id))))})\n",
    "      leg-k (take 8 (iterate (partial + (quot (- v-max v-min) 7)) v-min))\n",
    "      leg (leaf/legend-control :position \"bottomleft\" :legend (zipmap (map (partial format \"%,d\") leg-k) (map col-fn leg-k)))\n",
    "      m (leaf/map :layers [c] :center [45 -80] :zoom 3 :scroll_wheel_zoom true \n",
    "                  :controls [(leaf/full-screen-control) (leaf/widget-control :widget lab :position \"topright\") leg])]\n",
    "  m))"
   ]
  },
  {
   "cell_type": "markdown",
   "metadata": {},
   "source": [
    "### Heatmap"
   ]
  },
  {
   "cell_type": "code",
   "execution_count": 17,
   "metadata": {},
   "outputs": [
    {
     "data": {
      "application/vnd.jupyter.widget-view+json": {
       "model_id": "e25e49b1-1925-4660-9dd8-f6f5f11a8477",
       "version_major": 2,
       "version_minor": 0
      },
      "text/plain": [
       "[e25e49b1-1925-4660-9dd8-f6f5f11a8477]=LeafletMapModel"
      ]
     },
     "execution_count": 17,
     "metadata": {},
     "output_type": "execute_result"
    }
   ],
   "source": [
    "(let [loc (vec (repeatedly 1000 #(vector (- (rand 160) 80) (- (rand 360) 180) (rand 1000))))\n",
    "      hm (leaf/heatmap :locations loc :radius 20 :opacity 0.9)\n",
    "      m (leaf/map :center [0 0] :zoom 2 :layers [hm] :controls [(leaf/scale-control :position \"bottomleft\")])]\n",
    " m)"
   ]
  },
  {
   "cell_type": "markdown",
   "metadata": {},
   "source": [
    "### Not Tested\n",
    "wms-layer, image-overlay, vector-tile-layer."
   ]
  },
  {
   "cell_type": "markdown",
   "metadata": {},
   "source": [
    "---\n",
    "## Conclusions"
   ]
  },
  {
   "cell_type": "markdown",
   "metadata": {},
   "source": [
    "----\n",
    "## Debug"
   ]
  },
  {
   "cell_type": "code",
   "execution_count": 18,
   "metadata": {},
   "outputs": [
    {
     "data": {},
     "execution_count": 18,
     "metadata": {},
     "output_type": "execute_result"
    }
   ],
   "source": [
    "#_(taoensso.timbre/set-level! :debug)"
   ]
  }
 ],
 "metadata": {
  "kernelspec": {
   "display_name": "Clojure (clojupyter-0.4.1)",
   "language": "clojure",
   "name": "clojupyter-0.4.1"
  },
  "language_info": {
   "file_extension": ".clj",
   "mimetype": "text/x-clojure",
   "name": "clojure",
   "version": "1.10.1"
  },
  "version_major": 2,
  "version_minor": 0
 },
 "nbformat": 4,
 "nbformat_minor": 4
}

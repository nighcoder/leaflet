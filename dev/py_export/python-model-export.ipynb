{
 "cells": [
  {
   "cell_type": "code",
   "execution_count": null,
   "metadata": {},
   "outputs": [],
   "source": [
    "import ipyleaflet as lf"
   ]
  },
  {
   "cell_type": "code",
   "execution_count": null,
   "metadata": {},
   "outputs": [],
   "source": [
    "import json\n",
    "from operator import itemgetter\n",
    "\n",
    "from traitlets import (CaselessStrEnum, Unicode, Tuple, List, Bool, CFloat, Enum,\n",
    "                       Float, CInt, Int, Instance, Dict, Bytes, Any, Union, Undefined)\n",
    "\n",
    "import ipywidgets as widgets\n",
    "from ipywidgets import Color\n",
    "from ipywidgets.widgets.trait_types import TypedTuple, ByteMemoryView\n",
    "from ipywidgets.widgets.widget_link import Link\n"
   ]
  },
  {
   "cell_type": "code",
   "execution_count": null,
   "metadata": {},
   "outputs": [],
   "source": [
    "classes = {\"map\": lf.Map, \"map-style\": lf.MapStyle, \"search-control\": lf.SearchControl, \"legend-control\": lf.LegendControl,\n",
    "           \"attribution-control\": lf.AttributionControl, \"scale-control\": lf.ScaleControl, \"zoom-control\": lf.ZoomControl,\n",
    "           \"draw-control\": lf.DrawControl, \"split-map-control\": lf.SplitMapControl, \"measure-control\": lf.MeasureControl,\n",
    "           \"layers-control\": lf.LayersControl, \"full-screen-control\": lf.FullScreenControl, \"widget-control\": lf.WidgetControl,\n",
    "           \"control\": lf.Control, \"choropleth\": lf.Choropleth, \"geo-data\": lf.GeoJSON, \"geo-json\": lf.GeoJSON,\n",
    "           \"feature-group\": lf.FeatureGroup, \"layer-group\": lf.LayerGroup, \"marker-cluster\": lf.MarkerCluster, \"circle\": lf.Circle,\n",
    "           \"circle-marker\": lf.CircleMarker, \"rectangle\": lf.Rectangle, \"polygon\": lf.Polygon, \"polyline\": lf.Polyline,\n",
    "           \"ant-path\": lf.AntPath, \"path\": lf.Path, \"vector-layer\": lf.VectorLayer, \"vector-tile-layer\": lf.VectorTileLayer,\n",
    "           \"heatmap\": lf.Heatmap, \"video-overlay\": lf.VideoOverlay, \"image-overlay\": lf.ImageOverlay, \"wms-layer\": lf.WMSLayer,\n",
    "           \"local-tile-layer\": lf.TileLayer, \"tile-layer\": lf.TileLayer, \"raster-layer\": lf.RasterLayer, \"popup\": lf.Popup,\n",
    "           \"marker\": lf.Marker, \"awesome-icon\": lf.AwesomeIcon, \"icon\": lf.Icon, \"ui-layer\": lf.UILayer, \"layer\": lf.Layer}"
   ]
  },
  {
   "cell_type": "markdown",
   "metadata": {},
   "source": [
    "Copied from https://github.com/jupyter-widgets/ipywidgets/blob/master/packages/schema/generate-spec.py"
   ]
  },
  {
   "cell_type": "code",
   "execution_count": null,
   "metadata": {},
   "outputs": [],
   "source": [
    "def trait_type(trait, widget_list):\n",
    "    attributes = {}\n",
    "    if isinstance(trait, (CaselessStrEnum, Enum)):\n",
    "        w_type = 'string'\n",
    "        attributes['enum'] = trait.values\n",
    "    elif isinstance(trait, Unicode):\n",
    "        w_type = 'string'\n",
    "    elif isinstance(trait, (Tuple, List)):\n",
    "        w_type = 'array'\n",
    "    elif isinstance(trait, TypedTuple):\n",
    "        w_type = 'array'\n",
    "        attributes['items'] = trait_type(trait._trait, widget_list)\n",
    "    elif isinstance(trait, Bool):\n",
    "        w_type = 'bool'\n",
    "    elif isinstance(trait, (CFloat, Float)):\n",
    "        w_type = 'float'\n",
    "    elif isinstance(trait, (CInt, Int)):\n",
    "        w_type = 'int'\n",
    "    elif isinstance(trait, Color):\n",
    "        w_type = 'color'\n",
    "    elif isinstance(trait, Dict):\n",
    "        w_type = 'object'\n",
    "    elif isinstance(trait, (Bytes, ByteMemoryView)):\n",
    "        w_type = 'bytes'\n",
    "    elif isinstance(trait, Instance) and issubclass(trait.klass,\n",
    "                                                     widgets.Widget):\n",
    "        w_type = 'reference'\n",
    "        attributes['widget'] = trait.klass.__name__\n",
    "        # ADD the widget to this documenting list\n",
    "        if (trait.klass not in [i[1] for i in widget_list]\n",
    "                and trait.klass is not widgets.Widget):\n",
    "            widget_list.append((trait.klass.__name__, trait.klass))\n",
    "    elif isinstance(trait, Union):\n",
    "        w_type = 'union'\n",
    "        attributes['types'] = [trait_type(t, widget_list) for t in trait.trait_types]\n",
    "    elif isinstance(trait, Any):\n",
    "        # In our case, these all happen to be values that are converted to\n",
    "        # strings\n",
    "        w_type = 'label'\n",
    "    else:\n",
    "        w_type = trait.__class__.__name__\n",
    "    attributes['type'] = w_type\n",
    "    if trait.allow_none:\n",
    "        attributes['allow_none'] = True\n",
    "    return attributes\n"
   ]
  },
  {
   "cell_type": "code",
   "execution_count": null,
   "metadata": {},
   "outputs": [],
   "source": [
    "def jsdefault(trait):\n",
    "    if isinstance(trait, Instance):\n",
    "        default = trait.make_dynamic_default()\n",
    "        if issubclass(trait.klass, widgets.Widget):\n",
    "            return 'reference to new instance'\n",
    "    else:\n",
    "        default = trait.default_value\n",
    "        if isinstance(default, bytes) or isinstance(default, memoryview) or isinstance(default, type(Undefined)):\n",
    "            default = trait.default_value_repr()\n",
    "    return default"
   ]
  },
  {
   "cell_type": "code",
   "execution_count": null,
   "metadata": {},
   "outputs": [],
   "source": [
    "def jsonify(identifier, widget, widget_list):\n",
    "    n = identifier \n",
    "    attributes = []\n",
    "    for name, trait in widget.traits(sync=True).items():\n",
    "        if name == '_view_count':\n",
    "            # don't document this since it is totally experimental at this point\n",
    "            continue\n",
    "\n",
    "        attribute = dict(\n",
    "            name=name,\n",
    "            help=trait.help or '',\n",
    "            default=jsdefault(trait)\n",
    "        )\n",
    "        attribute.update(trait_type(trait, widget_list))\n",
    "        attributes.append(attribute)\n",
    "\n",
    "    return dict(name=n, attributes=attributes)"
   ]
  },
  {
   "cell_type": "code",
   "execution_count": null,
   "metadata": {},
   "outputs": [],
   "source": [
    "def create_spec(widget_list):\n",
    "    widget_data = []\n",
    "    for widget_name, widget_cls in widget_list:\n",
    "        if issubclass(widget_cls, Link):\n",
    "            widget = widget_cls((widgets.IntSlider(), 'value'),\n",
    "                                (widgets.IntSlider(), 'value'))\n",
    "        elif issubclass(widget_cls, (widgets.SelectionRangeSlider,\n",
    "                                     widgets.SelectionSlider)):\n",
    "            widget = widget_cls(options=[1])\n",
    "        elif issubclass (widget_cls, lf.LegendControl):\n",
    "            widget = widget_cls({})\n",
    "        elif issubclass (widget_cls, lf.SearchControl):\n",
    "            widget = widget_cls(marker=lf.Marker())\n",
    "        elif issubclass (widget_cls, lf.WidgetControl):\n",
    "            widget = widget_cls(widget=widgets.DOMWidget())                \n",
    "        else:\n",
    "            widget = widget_cls()\n",
    "\n",
    "        widget_data.append(jsonify(widget_name, widget, widget_list))\n",
    "    return widget_data"
   ]
  },
  {
   "cell_type": "code",
   "execution_count": null,
   "metadata": {},
   "outputs": [],
   "source": [
    "sort_cl = sorted([[k, classes[k]] for k in classes])"
   ]
  },
  {
   "cell_type": "code",
   "execution_count": null,
   "metadata": {
    "scrolled": true
   },
   "outputs": [],
   "source": [
    "specs = create_spec(sort_cl)"
   ]
  },
  {
   "cell_type": "code",
   "execution_count": null,
   "metadata": {},
   "outputs": [],
   "source": [
    "with open('../../resources/leaflet-schema.json', \"w\") as file:\n",
    "    json.dump(specs, file, sort_keys=True, indent=2, separators=(',', ': '))"
   ]
  },
  {
   "cell_type": "code",
   "execution_count": null,
   "metadata": {},
   "outputs": [],
   "source": [
    "bm = lf.basemaps"
   ]
  },
  {
   "cell_type": "code",
   "execution_count": null,
   "metadata": {},
   "outputs": [],
   "source": []
  },
  {
   "cell_type": "code",
   "execution_count": null,
   "metadata": {},
   "outputs": [],
   "source": [
    "with open('../../resources/basemaps.json', \"w\") as file:\n",
    "    json.dump(bm, file, sort_keys=True, indent=2, separators=(',', ': '))"
   ]
  },
  {
   "cell_type": "code",
   "execution_count": null,
   "metadata": {},
   "outputs": [],
   "source": []
  }
 ],
 "metadata": {
  "kernelspec": {
   "display_name": "Python 3",
   "language": "python",
   "name": "python3"
  },
  "language_info": {
   "codemirror_mode": {
    "name": "ipython",
    "version": 3
   },
   "file_extension": ".py",
   "mimetype": "text/x-python",
   "name": "python",
   "nbconvert_exporter": "python",
   "pygments_lexer": "ipython3",
   "version": "3.7.7"
  }
 },
 "nbformat": 4,
 "nbformat_minor": 4
}
